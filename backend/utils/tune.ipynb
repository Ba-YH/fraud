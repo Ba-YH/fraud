{
 "cells": [
  {
   "cell_type": "code",
   "outputs": [],
   "source": [
    "# 使用Word2Vec训练词向量\n",
    "def run(vector_size,window,n_components):\n",
    "    command = (f\"python process.py \"\n",
    "               f\"--vector_size {vector_size} \"\n",
    "               f\"--window {window} \"\n",
    "               f\"--n_components {n_components} \")\n",
    "\n",
    "    print(f\"Running: {command}\")\n",
    "    get_ipython().system(command)\n",
    "\n",
    "for vector_size in [100,500,1000]:\n",
    "    for window in [1,3,5]:\n",
    "        for n_components in [0.95,0.97,0.99]:\n",
    "            run(vector_size,window,n_components)"
   ],
   "metadata": {
    "collapsed": false
   },
   "id": "initial_id",
   "execution_count": null
  },
  {
   "cell_type": "code",
   "outputs": [
    {
     "name": "stdout",
     "output_type": "stream",
     "text": [
      "Running: python process.py -up -nc 0.95 \n",
      "Running: python process.py -up -nc 0.97 \n"
     ]
    },
    {
     "name": "stderr",
     "output_type": "stream",
     "text": [
      "Building prefix dict from the default dictionary ...\n",
      "Loading model from cache C:\\Users\\15H\\AppData\\Local\\Temp\\jieba.cache\n",
      "Loading model cost 0.530 seconds.\n",
      "Prefix dict has been built successfully.\n"
     ]
    },
    {
     "name": "stdout",
     "output_type": "stream",
     "text": [
      "Running: python process.py -up -nc 0.99 \n"
     ]
    },
    {
     "name": "stderr",
     "output_type": "stream",
     "text": [
      "Building prefix dict from the default dictionary ...\n",
      "Loading model from cache C:\\Users\\15H\\AppData\\Local\\Temp\\jieba.cache\n",
      "Loading model cost 0.500 seconds.\n",
      "Prefix dict has been built successfully.\n",
      "Building prefix dict from the default dictionary ...\n",
      "Loading model from cache C:\\Users\\15H\\AppData\\Local\\Temp\\jieba.cache\n",
      "Loading model cost 0.507 seconds.\n",
      "Prefix dict has been built successfully.\n"
     ]
    }
   ],
   "source": [
    "# 预训练词向量\n",
    "def run(n_components):\n",
    "    command = (f\"python process.py -up\"\n",
    "               f\" -nc {n_components} \")\n",
    "\n",
    "    print(f\"Running: {command}\")\n",
    "    get_ipython().system(command)\n",
    "\n",
    "for n_components in [0.95,0.97,0.99]:\n",
    "    run(n_components)"
   ],
   "metadata": {
    "collapsed": false,
    "ExecuteTime": {
     "end_time": "2025-03-13T06:55:44.852963Z",
     "start_time": "2025-03-13T06:55:16.828003Z"
    }
   },
   "id": "5b329d14451fe379",
   "execution_count": 2
  }
 ],
 "metadata": {
  "kernelspec": {
   "display_name": "Python 3",
   "language": "python",
   "name": "python3"
  },
  "language_info": {
   "codemirror_mode": {
    "name": "ipython",
    "version": 2
   },
   "file_extension": ".py",
   "mimetype": "text/x-python",
   "name": "python",
   "nbconvert_exporter": "python",
   "pygments_lexer": "ipython2",
   "version": "2.7.6"
  }
 },
 "nbformat": 4,
 "nbformat_minor": 5
}
